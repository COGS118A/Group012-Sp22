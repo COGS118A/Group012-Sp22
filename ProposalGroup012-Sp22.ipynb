{
 "cells": [
  {
   "cell_type": "markdown",
   "metadata": {},
   "source": [
    "# COGS 118A- Project Proposal"
   ]
  },
  {
   "cell_type": "markdown",
   "metadata": {},
   "source": [
    "# Project Description\n",
    "\n",
    "### Peer Review\n",
    "\n",
    "You will all have an opportunity to look at the Project Proposals of other groups to fuel your creativity and get more ideas for how you can improve your own projects. \n",
    "\n",
    "Both the project proposal and project checkpoint will have peer review."
   ]
  },
  {
   "cell_type": "markdown",
   "metadata": {},
   "source": [
    "# Names\n",
    "\n",
    "Hopefully your team is at least this good. Obviously you should replace these with your names.\n",
    "\n",
    "- Gilberto Robles\n",
    "- Soyon Kim\n",
    "- Allan Tan\n",
    "- Jason Sheu"
   ]
  },
  {
   "cell_type": "markdown",
   "metadata": {},
   "source": [
    "# Abstract \n",
    "Mental health patients struggle with financial, psychological, and logistical burden when seeking professional help. As such, social media, particularly Reddit, has become a popular place of outlet for them. In order to help mental healthcare become accessible and affordable at home, we aim to use supervised machine learning to detect self-harming and destructive behavior as well as classify potential mental disorders using the DSM-5 (Diagnostic and Statistical Manual of Mental Disorders) Diagnostic Criteria. Our model could also be utilized in a professional environment by assisting care providers with diagnosic confirmation. Additionally, the practicality of this experiment would extend into the implementation of notification alerts to reddit users privately, if their posts are detected to have a potential for self-harm or a diagnosis of a mental disorder.\n",
    "\n",
    "\n",
    "We use the Reddit Mental Health Dataset, which consists of posts from 28 different subreddits (15 mental health support groups) from 2018-2020. In our methods, we deploy a Multi-Class Text Classification model in a cross-examination study to evaluate the performance difference with K-Nearest Neighbors and Support Vector Machines to find patterns in people seeking support in mental health related subreddits. The posts will thus be related to mental disorders and harmful beahvior in order to potentially diagnose (or at least warn) users about the content of their posts, and then direct them to helpful resources in an accessible, private, and preventative manner.\n"
   ]
  },
  {
   "cell_type": "markdown",
   "metadata": {},
   "source": [
    "# Background\n",
    "\n",
    "The current mental healthcare system places various financial, psychological, and logistical burden on those seeking professional help for their mental disorders. \n",
    "\n",
    "To list a few:\n",
    "- There is a huge shortage of therapists/psychiatrists, leading to months and even year-long waitlists for an incoming patient’s first appointment. Especially since many do not accept insurance, this causes a huge difficulty on patients finding connection to clinicians in the first place.\n",
    "\n",
    "- There is a strong social stigma against seeking professional help for mental disorders. That is, the fear of admitting to one’s issues and becoming labeled as “disabled” leads to anosognosia, or the denial or “lack of insight” in acknowledging one’s mental health issues.\n",
    "\n",
    "- There is also the burden on incoming patients to find the best-fitting therapist in terms of location, specialization, cost, gender, age, and culture. When switching clinicians, the psychological burden of repeated intake sessions where one must elaborate on their mental health history can also be extremely cumbersome.\n",
    "\n",
    "As a result of this lack of outlet for mental health struggles, many turn to the internet to anonymously confess their difficulties and build communities for support. For example, Reddit has user-established mental health support groups for various mental health disorders such as addiction, alcoholism, Bipolar disorder, anxiety, depression, eating disorders, and post-traumatic stress disorder.\n",
    "Meanwhile, Human-Machine Interaction (HMI) is the field that explores computer and robot technology that focuses on the relationship between people and machines. As closely related to humans, HMI has focused on enhancing human health, particular mental health. \n",
    "For example, Chikersal et al. developed a automatic Depression detection through machine learning of biosensor feedbacks [2].\n",
    "There are also various products in the market that use machine learning and other intelligent methods for user personalization in preference and treatment. For example, there are mobile apps including mindfulness apps like Headspace, Calm, and UCLA Mindful and therapeutic robots like Paro, Hugvie, Pepper, Carebot, and QTRobot [4, 5].\n",
    " "
   ]
  },
  {
   "cell_type": "markdown",
   "metadata": {},
   "source": [
    "# Problem Statement\n",
    "\n",
    "In this project, we want to tackle the problem of lack of accessible, affordable, and preventative mental health support resources through the use of popular social media sites. Specifically, we want to assist Internet users struggling with mental disorders who have exhibited a range of qualifying behavior traits, as per DSM-5, through the use of an automated system that classifies them based on their Reddit posts. The system would learn words or phrases commonly used by people with the qualifying criteria versus people who do not exhibit any concern within the same Reddit thread, with the use of KNN and SVM text classification models. That is, the system would learn words and phrases used by people who clearly exhibit behavior and meet the criteria for mental disorders vs. those who do not struggle with mental disorders at all in order to create subcategories of potential disoders. Then, given a reddit post, the system will try to detect whether the post meets concerning criteria, at which point the user will be notified and directed to relevant resouces.\n"
   ]
  },
  {
   "cell_type": "markdown",
   "metadata": {},
   "source": [
    "# Data\n",
    "\n",
    "The dataset we plan to use is text that was scraped from Reddit’s mental health support subreddits. The link to the dataset can be found in as item 3 in the footnotes [3]. The data was originally created to examine the effects of COVID-19 on mental health. It contains posts from 28 different subreddits, or 15 mental health support groups, and dates range from 2018-2020. The link provided includes a variety of categories relating to mental health support. \n",
    "\n",
    "For our project in particular, we will be analyzing the posts associated with self-harming behavior as per DSM-5 criteria. As a result, the data we will be examining are for example, in the case of \"Major depressive disorder\", would be\n",
    "\n",
    "- depression_2018_features_tfidf_256.csv\n",
    "- depression_2019_features_tfidf_256.csv\n",
    "- etc. \n",
    "\n",
    "Regarding these two datasets in particular, the each have about 24500 and 33500 observations, respectively. They also have a wide array of variables concerning the text and the text’s metadata. Examples include:\n",
    "\n",
    "- the subreddit the text was scraped from\n",
    "- the username of the poster\n",
    "- actual text itself\n",
    "- date posted\n",
    "- unique words\n",
    "- syllables \n",
    "\n",
    "In total there are 350 variables for one observation. Similarly, a single observation basically constitutes a post on the subreddit would have all of the aforementioned variables.\n",
    "\n",
    "Because our project revolves around textual analysis and classification, we will predominantly focus on the reddit post's text portion of each observation. As a result, some critical variables are:\n",
    "- the text of the post\n",
    "- the date it was posted\n",
    "- number of words\n",
    "- number of times a “trigger” word such as gun or suicide is used, etc. \n",
    "\n",
    "The text of the post will be in string format and the date will also be a string in MM/DD/YYYY format. Other variables will be in integer or float format as they are primarily responsible for keeping track of word frequencies. Because we are only using a few of the variables out of the 350 available, we will need to remove the unnecessary ones. Additionally, to preserve anonymity, we will be removing the author variable from each observation. Some additional cleaning could also take the form of removing special characters from text of each observation or making all characters lowercase. \n"
   ]
  },
  {
   "cell_type": "markdown",
   "metadata": {},
   "source": [
    "# Proposed Solution\n",
    "\n",
    "Internet users have been posting volumes of texts discussing their mental illness or self harm urges. In this project, in order to solve the problem of lack of accessible, affordable and preventative mental health support resources, we aim to develop a mental disorder detection system and provide help to users by providing automatic warnings about the onset of hamrful behavior described explicitly by the user. \n",
    "\n",
    "Specifically, we will build a supervised machine learning (ML)-based system that detects depressive text and potentially the onset of depression. The system will initially use methods like TF-IDF to pick up terms with significance throughout the depressive posts in Reddit. After data wrangling, the system should be able to differentiate symptoms of depression from that of other mental health disorders, and we will do a cross-examination study to differentiate performance between K-Nearest Neighbors or Support Vector Machine (the preferred method for NLP text classification) to classify mental health disorders correctly. \n",
    "This can potentially help with future therapists’ intake session (the first session where an incoming patient describes their mental health history) by automating the analysis of user mental health prior to the appointment. As well as hopefully alert the users of their behavior as a preventative measure.\n"
   ]
  },
  {
   "cell_type": "markdown",
   "metadata": {},
   "source": [
    "# Evaluation Metrics\n",
    "\n",
    "At least one evaluation metric we will be using to quantify the performance of our model is root mean squared error (RMSE). Because we plan on leveraging sentiment analysis on the textual content of each observation, we will likely begin with linear regression as a baseline. \n",
    "\n",
    "One of the best methods at comparing linear regression performance is RMSE. Because our project is fairly categorical in nature (post indicative of depression vs. no depression), we realize that linear regression would not be the most effective approach. It will simply serve as a beginning benchmark and RMSE can be a useful metric for evaluation. The RMSE formula is derived by square rooting the squared difference between expected and actual values. In mathematical terms, this takes the form of RMSE=i=1n(yi-yi)2n.\n",
    "\n",
    "Another beginning benchmark approach would be k-nearest neighbors. This is considered because of the classification nature of our project. To calculate error in this case, we would simply compare an observation’s expected value versus its actual value. Each incorrect classification will increment a total and that total wil be divided by the total number of observations to give the final error rate. Mathematically, assuming our model returns 0 or 1 for classification with depression, this would take the form of ERROR=1ni=1n|yi-yi|. The error rate could then be used to tune hyperparameters such as the k-value. \n",
    "\n",
    "Finally, as we learn and develop the SVM classification model throughout our course, we will implement the relevant evaluation metrics. As well as compare the accuracy of the previous models to delpoy the final product."
   ]
  },
  {
   "cell_type": "markdown",
   "metadata": {},
   "source": [
    "# Ethics & Privacy"
   ]
  },
  {
   "cell_type": "markdown",
   "metadata": {},
   "source": [
    "Because our project and data potentially involves sensitive or intimate information regarding a person’s mental health, there are clear ethical and privacy concerns. To preserve anonymity, we plan on removing or assigning anonymous ID to the authors’ usernames from each observation during our data cleaning process. \n",
    "\n",
    "Additionally, extra processing to the text can be done to remove sensitive information such as names, addresses, etc. It is also important to note that the data was originally collected using Reddit’s API, which pulls from publicly available subreddits. This means we are not in violation of any major privacy sectors and all of the data we use can be found in the open web. \n",
    "\n",
    "In terms of medical ethics, we hope our model can be used as simply a preventative aid and optional resource to Reddit users who may require mental health diagnosis. Most importantly, to never carry more weight than the opinion of a medical professional.\n"
   ]
  },
  {
   "cell_type": "markdown",
   "metadata": {},
   "source": [
    "# Team Expectations "
   ]
  },
  {
   "cell_type": "markdown",
   "metadata": {},
   "source": [
    "Each team member will contribute equally, and at the beginning of each week we will set a list of tasks each member will be responsible for.\n",
    "\n",
    "We will communicate via discord and be transparent about each of our progress. If anyone is having trouble, they will communicate that clearly and ask for help from other teammates.\n",
    "\n",
    "Deadlines will be expected to be met, and all team members must do their best to meet the deadline.\n"
   ]
  },
  {
   "cell_type": "markdown",
   "metadata": {},
   "source": [
    "# Project Timeline Proposal"
   ]
  },
  {
   "cell_type": "markdown",
   "metadata": {},
   "source": [
    "\n",
    "| Meeting Date  | Completed Before Meeting  | Discuss at Meeting |\n",
    "|---|---|---|\n",
    "| 4/24  | Communication via Discord throughout the day | Brainstorm topics/search for datasets (all); Discuss and determine best final project topic and dataset; Finish project proposal\n",
    "| 4/28  | Peer review of proposals (all) | Finalize Peer review of proposals, Discuss Wrangling and possible analytical approaches; Assign group members to lead each specific part\n",
    "| 5/5   | Import & Wrangle Data, do some EDA (all/ specific task assignment will be done on 4/28) | Review/Edit wrangling/EDA; Discuss Analysis Plan (currently thinking of KNN and SVM)\n",
    "| 5/12  | Work on checkpoint report, finalize wrangling/EDA (2 members) | Finalize Checkpoint report, finalize analysis plan\n",
    "| 5/19  | Begin programming for project (all) | Peer review of checkpoint. Discuss/edit project code\n",
    "| 5/26  | Complete analysis; Draft results/conclusion/discussion (all) | Complete project / Discuss/edit full project\n",
    "| 6/2   | NA | Turn in Final Project\n",
    "\n"
   ]
  },
  {
   "cell_type": "markdown",
   "metadata": {},
   "source": [
    "# Footnotes"
   ]
  },
  {
   "cell_type": "markdown",
   "metadata": {},
   "source": [
    "[1] Alegria, Margarita, Jackson, James S. (James Sidney), Kessler, Ronald C., and Takeuchi, David. Collaborative Psychiatric Epidemiology Surveys (CPES), 2001-2003 [United States]. Inter-university Consortium for Political and Social Research [distributor], 2016-03-23. https://doi.org/10.3886/ICPSR20240.v8\n",
    "\n",
    "[2] Prerna Chikersal, Afsaneh Doryab, Michael Tumminia, Daniella K. Villalba, Janine M. Dutcher, Xinwen Liu, Sheldon Cohen, Kasey G. Creswell, Jennifer Mankoff, J. David Creswell, Mayank Goel, Anind Dey. 2020. Detecting Depression and Predicting its Onset Using Longitudinal Symptoms Captured by Passive Sensing: A Machine Learning Approach With Robust Feature Selection. ACM Transactions on Computer-Human Interaction (TOCHI), 2020.\n",
    "\n",
    "[3] Low, D. M., Rumker, L., Torous, J., Cecchi, G., Ghosh, S. S., & Talkar, T. (2020). Natural Language Processing Reveals Vulnerable Mental Health Support Groups and Heightened Health Anxiety on Reddit During COVID-19: Observational Study. Journal of medical Internet research, 22(10), e22635. https://zenodo.org/record/3941387#.YmXlUNPMKDU\n",
    "\n",
    "[4] Kuwamura, Kaiko, et al. \"Hugvie: A medium that fosters love.\" 2013 IEEE RO-MAN. IEEE, 2013.\n",
    "\n",
    "[5] Šabanović, Selma, et al. \"PARO robot affects diverse interaction modalities in group sensory therapy for older adults with dementia.\" 2013 IEEE 13th international conference on rehabilitation robotics (ICORR). IEEE, 2013."
   ]
  }
 ],
 "metadata": {
  "kernelspec": {
   "display_name": "Python 3 (ipykernel)",
   "language": "python",
   "name": "python3"
  },
  "language_info": {
   "codemirror_mode": {
    "name": "ipython",
    "version": 3
   },
   "file_extension": ".py",
   "mimetype": "text/x-python",
   "name": "python",
   "nbconvert_exporter": "python",
   "pygments_lexer": "ipython3",
   "version": "3.10.4"
  }
 },
 "nbformat": 4,
 "nbformat_minor": 2
}
