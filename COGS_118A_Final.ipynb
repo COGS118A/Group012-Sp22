{
  "nbformat": 4,
  "nbformat_minor": 0,
  "metadata": {
    "colab": {
      "name": "COGS 118A Final.ipynb",
      "provenance": [],
      "collapsed_sections": []
    },
    "kernelspec": {
      "name": "python3",
      "display_name": "Python 3"
    },
    "language_info": {
      "name": "python"
    }
  },
  "cells": [
    {
      "cell_type": "markdown",
      "source": [
        "## Import Relevant Libraries"
      ],
      "metadata": {
        "id": "crUlTnX2e_IV"
      }
    },
    {
      "cell_type": "code",
      "execution_count": null,
      "metadata": {
        "id": "pQ8qHZrHZb_P",
        "colab": {
          "base_uri": "https://localhost:8080/"
        },
        "outputId": "0f277e9b-2129-4e90-95d7-b56d832b361f"
      },
      "outputs": [
        {
          "output_type": "stream",
          "name": "stdout",
          "text": [
            "[nltk_data] Downloading package stopwords to /root/nltk_data...\n",
            "[nltk_data]   Unzipping corpora/stopwords.zip.\n"
          ]
        }
      ],
      "source": [
        "import numpy as np\n",
        "import pandas as pd\n",
        "from nltk.corpus import stopwords\n",
        "import nltk\n",
        "nltk.download('stopwords')\n",
        "import string\n",
        "from sklearn.feature_extraction.text import TfidfVectorizer"
      ]
    },
    {
      "cell_type": "markdown",
      "source": [
        "## Import Dataset"
      ],
      "metadata": {
        "id": "wNvyP-RtYQRv"
      }
    },
    {
      "cell_type": "code",
      "source": [
        "# this cell downloads the depression dataset.... I couldn't figure out a more efficient method of downloading all data with one command\n",
        "!wget https://zenodo.org/record/3941387/files/depression_2018_features_tfidf_256.csv?download=1 -O depression_2018.csv\n",
        "#!wget https://zenodo.org/record/3941387/files/depression_2019_features_tfidf_256.csv?download=1 -O depression_2019.csv\n",
        "#!wget https://zenodo.org/record/3941387/files/depression_post_features_tfidf_256.csv?download=1 -O depression_post.csv\n",
        "#!wget https://zenodo.org/record/3941387/files/depression_pre_features_tfidf_256.csv?download=1 -O depression_pre.csv"
      ],
      "metadata": {
        "colab": {
          "base_uri": "https://localhost:8080/"
        },
        "id": "Tlm0ZOcHaLx4",
        "outputId": "3d74b161-c430-48e8-e8d4-ba9aeddf0b71"
      },
      "execution_count": null,
      "outputs": [
        {
          "output_type": "stream",
          "name": "stdout",
          "text": [
            "--2022-05-21 05:42:58--  https://zenodo.org/record/3941387/files/depression_2018_features_tfidf_256.csv?download=1\n",
            "Resolving zenodo.org (zenodo.org)... 137.138.76.77\n",
            "Connecting to zenodo.org (zenodo.org)|137.138.76.77|:443... connected.\n",
            "HTTP request sent, awaiting response... 200 OK\n",
            "Length: 74323253 (71M) [text/plain]\n",
            "Saving to: ‘depression_2018.csv’\n",
            "\n",
            "depression_2018.csv 100%[===================>]  70.88M  18.4MB/s    in 3.8s    \n",
            "\n",
            "2022-05-21 05:43:03 (18.4 MB/s) - ‘depression_2018.csv’ saved [74323253/74323253]\n",
            "\n"
          ]
        }
      ]
    },
    {
      "cell_type": "code",
      "source": [
        "!ls"
      ],
      "metadata": {
        "colab": {
          "base_uri": "https://localhost:8080/"
        },
        "id": "wZDqt4ppUjGJ",
        "outputId": "8a734066-08e3-40b9-b470-3baec474f56e"
      },
      "execution_count": null,
      "outputs": [
        {
          "output_type": "stream",
          "name": "stdout",
          "text": [
            "depression_2018.csv  sample_data\n"
          ]
        }
      ]
    },
    {
      "cell_type": "code",
      "source": [
        "from google.colab import drive\n",
        "drive.mount('/content/drive')"
      ],
      "metadata": {
        "colab": {
          "base_uri": "https://localhost:8080/"
        },
        "id": "3VhAHOcOE9ec",
        "outputId": "b7ddfcfc-4cc8-4d8e-8e53-b9badbd77bc4"
      },
      "execution_count": null,
      "outputs": [
        {
          "output_type": "stream",
          "name": "stdout",
          "text": [
            "Mounted at /content/drive\n"
          ]
        }
      ]
    },
    {
      "cell_type": "markdown",
      "source": [
        "## Datasets to Dataframes"
      ],
      "metadata": {
        "id": "zTGsjjX1cuTg"
      }
    },
    {
      "cell_type": "code",
      "source": [
        "depression_2018_df = pd.read_csv(\"depression_2018.csv\")\n",
        "#depression_2019_df = pd.read_csv(\"depression_2019.csv\")\n",
        "#depression_post_df = pd.read_csv(\"depression_post.csv\")\n",
        "#depression_pre_df = pd.read_csv(\"depression_pre.csv\")\n",
        "\n",
        "\n",
        "depression_2018_df.columns"
      ],
      "metadata": {
        "colab": {
          "base_uri": "https://localhost:8080/"
        },
        "id": "r7OG2mThWWcx",
        "outputId": "4d207023-0e8e-40d1-8d94-be968500f1ea"
      },
      "execution_count": null,
      "outputs": [
        {
          "output_type": "execute_result",
          "data": {
            "text/plain": [
              "Index(['subreddit', 'author', 'date', 'post', 'automated_readability_index',\n",
              "       'coleman_liau_index', 'flesch_kincaid_grade_level',\n",
              "       'flesch_reading_ease', 'gulpease_index', 'gunning_fog_index',\n",
              "       ...\n",
              "       'tfidf_wish', 'tfidf_without', 'tfidf_wonder', 'tfidf_work',\n",
              "       'tfidf_worri', 'tfidf_wors', 'tfidf_would', 'tfidf_wrong',\n",
              "       'tfidf_x200b', 'tfidf_year'],\n",
              "      dtype='object', length=350)"
            ]
          },
          "metadata": {},
          "execution_count": 10
        }
      ]
    },
    {
      "cell_type": "code",
      "source": [
        "depression"
      ],
      "metadata": {
        "id": "azrIFl8oJMeZ"
      },
      "execution_count": null,
      "outputs": []
    },
    {
      "cell_type": "code",
      "source": [
        "# List of column headers\n",
        "#list(depression_2018_df.columns.values)"
      ],
      "metadata": {
        "id": "1gBsCipFiwRI"
      },
      "execution_count": null,
      "outputs": []
    },
    {
      "cell_type": "code",
      "source": [
        "# Number of Authors (duplicates counted as individuals)\n",
        "grouped_lists = depression_2018_df[\"author\"].apply(list)\n",
        "print(grouped_lists)"
      ],
      "metadata": {
        "colab": {
          "base_uri": "https://localhost:8080/"
        },
        "id": "aKvfVTfvljeV",
        "outputId": "ac056309-6694-42ba-a181-b0b913da03a9"
      },
      "execution_count": null,
      "outputs": [
        {
          "output_type": "stream",
          "name": "stdout",
          "text": [
            "0                              [h, a, n, n, g, a, p, o, i]\n",
            "1            [t, h, r, 0, w, 4, w, 4, y, 9, 8, 9, 8, 9, 7]\n",
            "2                     [m, o, o, s, e, m, a, n, 1, 8, 0, 0]\n",
            "3         [t, h, r, o, w, a, w, a, y, 1, 8, 0, 2, 3, 6, 0]\n",
            "4                              [a, t, e, m, y, l, i, f, e]\n",
            "                               ...                        \n",
            "24530    [f, i, f, t, y, s, h, a, d, e, s, o, f, l, a, ...\n",
            "24531                          [M, A, K, I, K, A, T, T, A]\n",
            "24532                       [5, 6, 2, 0, 7, 0, 5, 8, 7, 0]\n",
            "24533                       [m, x, q, u, e, e, n, 9, 7, 6]\n",
            "24534                          [i, R, S, u, p, a, m, a, n]\n",
            "Name: author, Length: 24535, dtype: object\n"
          ]
        }
      ]
    },
    {
      "cell_type": "code",
      "source": [
        "# Number of Unique Authors (Duplicates disregarded)\n",
        "print(depression_2018_df['author'].nunique())\n",
        "print(len(depression_2018_df))"
      ],
      "metadata": {
        "colab": {
          "base_uri": "https://localhost:8080/"
        },
        "id": "Ut4YmW3UpI4b",
        "outputId": "8f9cefe7-d0d5-47cf-b950-bc128e4786b1"
      },
      "execution_count": null,
      "outputs": [
        {
          "output_type": "stream",
          "name": "stdout",
          "text": [
            "24535\n",
            "24535\n"
          ]
        }
      ]
    },
    {
      "cell_type": "markdown",
      "source": [
        "## Example of a post from the depression dataset"
      ],
      "metadata": {
        "id": "XFt66Wu7euHm"
      }
    },
    {
      "cell_type": "code",
      "source": [
        "depression_post = depression_2018_df.loc[:, \"post\"][1]\n",
        "depression_post"
      ],
      "metadata": {
        "colab": {
          "base_uri": "https://localhost:8080/",
          "height": 70
        },
        "id": "W5H-iNCHWdSP",
        "outputId": "f995265f-0de0-45f5-9019-c901630f7fde"
      },
      "execution_count": null,
      "outputs": [
        {
          "output_type": "execute_result",
          "data": {
            "text/plain": [
              "\"I give up. Failed I just want to wipe my hands clean of the bare minimum responsibility for my existence. It's so fucking simple. It's very much laughable. Take my organs! Please! Lol It's more than a fair deal! Consider the alternative! It's so stupid. I'm stupid. Society's stupid. \\n\\nI don't endorse people taking their lives. This eyeblink of existence is all we have. It's literally a miracle each one of us is conscious. But for the same reason I shouldn't become waste through inaction. It's the best I can do.\""
            ],
            "application/vnd.google.colaboratory.intrinsic+json": {
              "type": "string"
            }
          },
          "metadata": {},
          "execution_count": 13
        }
      ]
    },
    {
      "cell_type": "code",
      "source": [
        "# dataset of depression reddit posts\n",
        "\n",
        "depression_posts = [i for i in depression_2018_df.loc[:, \"post\"]]"
      ],
      "metadata": {
        "id": "mQ4NEaMCi0TK"
      },
      "execution_count": null,
      "outputs": []
    },
    {
      "cell_type": "markdown",
      "source": [
        "## Next step is to find the most common words in all posts related to depression"
      ],
      "metadata": {
        "id": "XxxLKabQereN"
      }
    },
    {
      "cell_type": "markdown",
      "source": [
        "Some Questions and Planning:\n",
        "\n",
        "* How should we preprocess the data? \n",
        "* data cleaning first into desired format, preferrably merging all 15 mental health support groups into the same dataset\n",
        "* then doing a train / test split\n",
        "* perform the word search\n",
        "\n",
        "\n",
        "* we need to establish DSM-5 criteria\n",
        "* decide how k-NN will be performed for classification\n",
        "\n",
        "* k folds cross validation to find best k-NN setting\n",
        "\n",
        "* as we learn SVM, perform cross validation on it and compare to k-NN classification performance"
      ],
      "metadata": {
        "id": "jLt9_9GcfjbZ"
      }
    },
    {
      "cell_type": "markdown",
      "source": [
        "### Data Cleaning and Preprocessing"
      ],
      "metadata": {
        "id": "6TQLeBYdDbQ2"
      }
    },
    {
      "cell_type": "code",
      "source": [
        "#functions to remove stopwords from posts\n",
        "\n",
        "def remove_stops(text, stops):\n",
        "  words = text.split()\n",
        "  final = []\n",
        "  for word in words:\n",
        "    if word not in stops:\n",
        "      final.append(word)\n",
        "  final = \" \".join(final)\n",
        "  final = final.translate(str.maketrans(\"\", \"\", string.punctuation))\n",
        "  final = \"\".join([i for i in final if not i.isdigit()])\n",
        "  while \"  \" in final:\n",
        "    final = final.replace(\"  \", \" \")\n",
        "  return final\n",
        "\n",
        "def clean_docs(docs):\n",
        "  stops = stopwords.words(\"english\")\n",
        "  final = []\n",
        "  final2 = []\n",
        "  for doc in docs:\n",
        "    clean_doc = remove_stops(doc, stops)\n",
        "    final.append(clean_doc)\n",
        "\n",
        "  #data = [line.strip() for line in open('/content/stop_words_english.txt', 'r')]\n",
        "  #final2 = [[word.lower() for word in text.split()] for text in data]\n",
        "  #final.append(final2)\n",
        "  return final"
      ],
      "metadata": {
        "id": "20pjM6XHgfSo"
      },
      "execution_count": null,
      "outputs": []
    },
    {
      "cell_type": "code",
      "source": [
        "cleaned_depression_docs = clean_docs(depression_posts)"
      ],
      "metadata": {
        "id": "lEop2fqyimUq"
      },
      "execution_count": null,
      "outputs": []
    },
    {
      "cell_type": "markdown",
      "source": [
        "### compare clean vs unclean"
      ],
      "metadata": {
        "id": "6r3ifzkTDQ-k"
      }
    },
    {
      "cell_type": "code",
      "source": [
        "cleaned_depression_docs[1]"
      ],
      "metadata": {
        "colab": {
          "base_uri": "https://localhost:8080/",
          "height": 53
        },
        "id": "vuHmDYsvDKoA",
        "outputId": "72e9da4b-d7bf-4793-f7de-4186233783c5"
      },
      "execution_count": null,
      "outputs": [
        {
          "output_type": "execute_result",
          "data": {
            "text/plain": [
              "'I give up Failed I want wipe hands clean bare minimum responsibility existence Its fucking simple Its much laughable Take organs Please Lol Its fair deal Consider alternative Its stupid Im stupid Societys stupid I endorse people taking lives This eyeblink existence have Its literally miracle one us conscious But reason I become waste inaction Its best I do'"
            ],
            "application/vnd.google.colaboratory.intrinsic+json": {
              "type": "string"
            }
          },
          "metadata": {},
          "execution_count": 17
        }
      ]
    },
    {
      "cell_type": "code",
      "source": [
        "depression_posts[1]"
      ],
      "metadata": {
        "colab": {
          "base_uri": "https://localhost:8080/",
          "height": 70
        },
        "id": "E2ejYuIhDO7m",
        "outputId": "34a4b24e-92ac-464f-c84c-bd303c3dfb05"
      },
      "execution_count": null,
      "outputs": [
        {
          "output_type": "execute_result",
          "data": {
            "text/plain": [
              "\"I give up. Failed I just want to wipe my hands clean of the bare minimum responsibility for my existence. It's so fucking simple. It's very much laughable. Take my organs! Please! Lol It's more than a fair deal! Consider the alternative! It's so stupid. I'm stupid. Society's stupid. \\n\\nI don't endorse people taking their lives. This eyeblink of existence is all we have. It's literally a miracle each one of us is conscious. But for the same reason I shouldn't become waste through inaction. It's the best I can do.\""
            ],
            "application/vnd.google.colaboratory.intrinsic+json": {
              "type": "string"
            }
          },
          "metadata": {},
          "execution_count": 18
        }
      ]
    },
    {
      "cell_type": "markdown",
      "source": [
        "### TF IDF attempt"
      ],
      "metadata": {
        "id": "IAYL-1XKa7y7"
      }
    },
    {
      "cell_type": "code",
      "source": [
        "\n",
        "from sklearn.feature_extraction import text\n",
        "with open('/content/stop_words_english.txt', 'r') as f:\n",
        "    more_stop_words = [line.strip() for line in f]\n",
        "my_stop_words = text.ENGLISH_STOP_WORDS.union(more_stop_words)\n",
        "\n",
        "vectorizer = TfidfVectorizer(\n",
        "                                lowercase=True,\n",
        "                                max_features=300,\n",
        "                                stop_words=my_stop_words)\n",
        "\n",
        "vectors = vectorizer.fit_transform(cleaned_depression_docs)\n",
        "feature_names = vectorizer.get_feature_names_out()\n",
        "dense = vectors.todense()\n",
        "denselist = dense.tolist()\n",
        "depression_tfidf = pd.DataFrame(denselist, columns=feature_names)"
      ],
      "metadata": {
        "id": "03hymgfWe7RN",
        "colab": {
          "base_uri": "https://localhost:8080/"
        },
        "outputId": "cf18df36-0928-4559-b1d9-cf14a726be40"
      },
      "execution_count": null,
      "outputs": [
        {
          "output_type": "stream",
          "name": "stderr",
          "text": [
            "/usr/local/lib/python3.7/dist-packages/sklearn/feature_extraction/text.py:401: UserWarning: Your stop_words may be inconsistent with your preprocessing. Tokenizing the stop words generated tokens ['ain', 'al', 'couldn', 'daren', 'didn', 'doesn', 'don', 'hadn', 'hasn', 'haven', 'isn', 'itse', 'll', 'mayn', 'mightn', 'mon', 'mustn', 'myse', 'needn', 'oughtn', 'shan', 'shouldn', 've', 'wasn', 'weren', 'won', 'wouldn'] not in stop_words.\n",
            "  % sorted(inconsistent)\n"
          ]
        }
      ]
    },
    {
      "cell_type": "code",
      "source": [
        "depression_tfidf"
      ],
      "metadata": {
        "id": "qpUokjRXfmW_",
        "colab": {
          "base_uri": "https://localhost:8080/",
          "height": 424
        },
        "outputId": "a04633f3-8501-4dc7-9eae-7bc895719e9b"
      },
      "execution_count": null,
      "outputs": [
        {
          "output_type": "execute_result",
          "data": {
            "text/plain": [
              "       absolutely    advice  afraid  age     alive     angry  antidepressants  \\\n",
              "0             0.0  0.000000     0.0  0.0  0.000000  0.000000              0.0   \n",
              "1             0.0  0.000000     0.0  0.0  0.000000  0.000000              0.0   \n",
              "2             0.0  0.000000     0.0  0.0  0.000000  0.000000              0.0   \n",
              "3             0.0  0.000000     0.0  0.0  0.000000  0.000000              0.0   \n",
              "4             0.0  0.000000     0.0  0.0  0.000000  0.000000              0.0   \n",
              "...           ...       ...     ...  ...       ...       ...              ...   \n",
              "24530         0.0  0.000000     0.0  0.0  0.000000  0.000000              0.0   \n",
              "24531         0.0  0.000000     0.0  0.0  0.000000  0.000000              0.0   \n",
              "24532         0.0  0.000000     0.0  0.0  0.413265  0.208784              0.0   \n",
              "24533         0.0  0.107736     0.0  0.0  0.000000  0.000000              0.0   \n",
              "24534         0.0  0.000000     0.0  0.0  0.000000  0.000000              0.0   \n",
              "\n",
              "        anxiety  anxious  asked  ...  working     worse     worst  worth  \\\n",
              "0      0.152159      0.0    0.0  ...      0.0  0.000000  0.000000    0.0   \n",
              "1      0.000000      0.0    0.0  ...      0.0  0.000000  0.000000    0.0   \n",
              "2      0.000000      0.0    0.0  ...      0.0  0.000000  0.000000    0.0   \n",
              "3      0.000000      0.0    0.0  ...      0.0  0.000000  0.000000    0.0   \n",
              "4      0.000000      0.0    0.0  ...      0.0  0.000000  0.000000    0.0   \n",
              "...         ...      ...    ...  ...      ...       ...       ...    ...   \n",
              "24530  0.000000      0.0    0.0  ...      0.0  0.000000  0.000000    0.0   \n",
              "24531  0.087108      0.0    0.0  ...      0.0  0.086000  0.000000    0.0   \n",
              "24532  0.000000      0.0    0.0  ...      0.0  0.145713  0.188418    0.0   \n",
              "24533  0.000000      0.0    0.0  ...      0.0  0.000000  0.116968    0.0   \n",
              "24534  0.000000      0.0    0.0  ...      0.0  0.000000  0.000000    0.0   \n",
              "\n",
              "       worthless   write  writing     wrong      year     years  \n",
              "0            0.0  0.0000      0.0  0.000000  0.264361  0.114179  \n",
              "1            0.0  0.0000      0.0  0.000000  0.000000  0.000000  \n",
              "2            0.0  0.0000      0.0  0.000000  0.000000  0.000000  \n",
              "3            0.0  0.0000      0.0  0.000000  0.000000  0.000000  \n",
              "4            0.0  0.0000      0.0  0.000000  0.757310  0.000000  \n",
              "...          ...     ...      ...       ...       ...       ...  \n",
              "24530        0.0  0.0000      0.0  0.000000  0.000000  0.161897  \n",
              "24531        0.0  0.1242      0.0  0.000000  0.000000  0.130731  \n",
              "24532        0.0  0.0000      0.0  0.000000  0.000000  0.000000  \n",
              "24533        0.0  0.0000      0.0  0.102612  0.159185  0.137505  \n",
              "24534        0.0  0.0000      0.0  0.000000  0.000000  0.304436  \n",
              "\n",
              "[24535 rows x 300 columns]"
            ],
            "text/html": [
              "\n",
              "  <div id=\"df-1a29e0f3-7be1-4b5c-b933-cf22bdc75345\">\n",
              "    <div class=\"colab-df-container\">\n",
              "      <div>\n",
              "<style scoped>\n",
              "    .dataframe tbody tr th:only-of-type {\n",
              "        vertical-align: middle;\n",
              "    }\n",
              "\n",
              "    .dataframe tbody tr th {\n",
              "        vertical-align: top;\n",
              "    }\n",
              "\n",
              "    .dataframe thead th {\n",
              "        text-align: right;\n",
              "    }\n",
              "</style>\n",
              "<table border=\"1\" class=\"dataframe\">\n",
              "  <thead>\n",
              "    <tr style=\"text-align: right;\">\n",
              "      <th></th>\n",
              "      <th>absolutely</th>\n",
              "      <th>advice</th>\n",
              "      <th>afraid</th>\n",
              "      <th>age</th>\n",
              "      <th>alive</th>\n",
              "      <th>angry</th>\n",
              "      <th>antidepressants</th>\n",
              "      <th>anxiety</th>\n",
              "      <th>anxious</th>\n",
              "      <th>asked</th>\n",
              "      <th>...</th>\n",
              "      <th>working</th>\n",
              "      <th>worse</th>\n",
              "      <th>worst</th>\n",
              "      <th>worth</th>\n",
              "      <th>worthless</th>\n",
              "      <th>write</th>\n",
              "      <th>writing</th>\n",
              "      <th>wrong</th>\n",
              "      <th>year</th>\n",
              "      <th>years</th>\n",
              "    </tr>\n",
              "  </thead>\n",
              "  <tbody>\n",
              "    <tr>\n",
              "      <th>0</th>\n",
              "      <td>0.0</td>\n",
              "      <td>0.000000</td>\n",
              "      <td>0.0</td>\n",
              "      <td>0.0</td>\n",
              "      <td>0.000000</td>\n",
              "      <td>0.000000</td>\n",
              "      <td>0.0</td>\n",
              "      <td>0.152159</td>\n",
              "      <td>0.0</td>\n",
              "      <td>0.0</td>\n",
              "      <td>...</td>\n",
              "      <td>0.0</td>\n",
              "      <td>0.000000</td>\n",
              "      <td>0.000000</td>\n",
              "      <td>0.0</td>\n",
              "      <td>0.0</td>\n",
              "      <td>0.0000</td>\n",
              "      <td>0.0</td>\n",
              "      <td>0.000000</td>\n",
              "      <td>0.264361</td>\n",
              "      <td>0.114179</td>\n",
              "    </tr>\n",
              "    <tr>\n",
              "      <th>1</th>\n",
              "      <td>0.0</td>\n",
              "      <td>0.000000</td>\n",
              "      <td>0.0</td>\n",
              "      <td>0.0</td>\n",
              "      <td>0.000000</td>\n",
              "      <td>0.000000</td>\n",
              "      <td>0.0</td>\n",
              "      <td>0.000000</td>\n",
              "      <td>0.0</td>\n",
              "      <td>0.0</td>\n",
              "      <td>...</td>\n",
              "      <td>0.0</td>\n",
              "      <td>0.000000</td>\n",
              "      <td>0.000000</td>\n",
              "      <td>0.0</td>\n",
              "      <td>0.0</td>\n",
              "      <td>0.0000</td>\n",
              "      <td>0.0</td>\n",
              "      <td>0.000000</td>\n",
              "      <td>0.000000</td>\n",
              "      <td>0.000000</td>\n",
              "    </tr>\n",
              "    <tr>\n",
              "      <th>2</th>\n",
              "      <td>0.0</td>\n",
              "      <td>0.000000</td>\n",
              "      <td>0.0</td>\n",
              "      <td>0.0</td>\n",
              "      <td>0.000000</td>\n",
              "      <td>0.000000</td>\n",
              "      <td>0.0</td>\n",
              "      <td>0.000000</td>\n",
              "      <td>0.0</td>\n",
              "      <td>0.0</td>\n",
              "      <td>...</td>\n",
              "      <td>0.0</td>\n",
              "      <td>0.000000</td>\n",
              "      <td>0.000000</td>\n",
              "      <td>0.0</td>\n",
              "      <td>0.0</td>\n",
              "      <td>0.0000</td>\n",
              "      <td>0.0</td>\n",
              "      <td>0.000000</td>\n",
              "      <td>0.000000</td>\n",
              "      <td>0.000000</td>\n",
              "    </tr>\n",
              "    <tr>\n",
              "      <th>3</th>\n",
              "      <td>0.0</td>\n",
              "      <td>0.000000</td>\n",
              "      <td>0.0</td>\n",
              "      <td>0.0</td>\n",
              "      <td>0.000000</td>\n",
              "      <td>0.000000</td>\n",
              "      <td>0.0</td>\n",
              "      <td>0.000000</td>\n",
              "      <td>0.0</td>\n",
              "      <td>0.0</td>\n",
              "      <td>...</td>\n",
              "      <td>0.0</td>\n",
              "      <td>0.000000</td>\n",
              "      <td>0.000000</td>\n",
              "      <td>0.0</td>\n",
              "      <td>0.0</td>\n",
              "      <td>0.0000</td>\n",
              "      <td>0.0</td>\n",
              "      <td>0.000000</td>\n",
              "      <td>0.000000</td>\n",
              "      <td>0.000000</td>\n",
              "    </tr>\n",
              "    <tr>\n",
              "      <th>4</th>\n",
              "      <td>0.0</td>\n",
              "      <td>0.000000</td>\n",
              "      <td>0.0</td>\n",
              "      <td>0.0</td>\n",
              "      <td>0.000000</td>\n",
              "      <td>0.000000</td>\n",
              "      <td>0.0</td>\n",
              "      <td>0.000000</td>\n",
              "      <td>0.0</td>\n",
              "      <td>0.0</td>\n",
              "      <td>...</td>\n",
              "      <td>0.0</td>\n",
              "      <td>0.000000</td>\n",
              "      <td>0.000000</td>\n",
              "      <td>0.0</td>\n",
              "      <td>0.0</td>\n",
              "      <td>0.0000</td>\n",
              "      <td>0.0</td>\n",
              "      <td>0.000000</td>\n",
              "      <td>0.757310</td>\n",
              "      <td>0.000000</td>\n",
              "    </tr>\n",
              "    <tr>\n",
              "      <th>...</th>\n",
              "      <td>...</td>\n",
              "      <td>...</td>\n",
              "      <td>...</td>\n",
              "      <td>...</td>\n",
              "      <td>...</td>\n",
              "      <td>...</td>\n",
              "      <td>...</td>\n",
              "      <td>...</td>\n",
              "      <td>...</td>\n",
              "      <td>...</td>\n",
              "      <td>...</td>\n",
              "      <td>...</td>\n",
              "      <td>...</td>\n",
              "      <td>...</td>\n",
              "      <td>...</td>\n",
              "      <td>...</td>\n",
              "      <td>...</td>\n",
              "      <td>...</td>\n",
              "      <td>...</td>\n",
              "      <td>...</td>\n",
              "      <td>...</td>\n",
              "    </tr>\n",
              "    <tr>\n",
              "      <th>24530</th>\n",
              "      <td>0.0</td>\n",
              "      <td>0.000000</td>\n",
              "      <td>0.0</td>\n",
              "      <td>0.0</td>\n",
              "      <td>0.000000</td>\n",
              "      <td>0.000000</td>\n",
              "      <td>0.0</td>\n",
              "      <td>0.000000</td>\n",
              "      <td>0.0</td>\n",
              "      <td>0.0</td>\n",
              "      <td>...</td>\n",
              "      <td>0.0</td>\n",
              "      <td>0.000000</td>\n",
              "      <td>0.000000</td>\n",
              "      <td>0.0</td>\n",
              "      <td>0.0</td>\n",
              "      <td>0.0000</td>\n",
              "      <td>0.0</td>\n",
              "      <td>0.000000</td>\n",
              "      <td>0.000000</td>\n",
              "      <td>0.161897</td>\n",
              "    </tr>\n",
              "    <tr>\n",
              "      <th>24531</th>\n",
              "      <td>0.0</td>\n",
              "      <td>0.000000</td>\n",
              "      <td>0.0</td>\n",
              "      <td>0.0</td>\n",
              "      <td>0.000000</td>\n",
              "      <td>0.000000</td>\n",
              "      <td>0.0</td>\n",
              "      <td>0.087108</td>\n",
              "      <td>0.0</td>\n",
              "      <td>0.0</td>\n",
              "      <td>...</td>\n",
              "      <td>0.0</td>\n",
              "      <td>0.086000</td>\n",
              "      <td>0.000000</td>\n",
              "      <td>0.0</td>\n",
              "      <td>0.0</td>\n",
              "      <td>0.1242</td>\n",
              "      <td>0.0</td>\n",
              "      <td>0.000000</td>\n",
              "      <td>0.000000</td>\n",
              "      <td>0.130731</td>\n",
              "    </tr>\n",
              "    <tr>\n",
              "      <th>24532</th>\n",
              "      <td>0.0</td>\n",
              "      <td>0.000000</td>\n",
              "      <td>0.0</td>\n",
              "      <td>0.0</td>\n",
              "      <td>0.413265</td>\n",
              "      <td>0.208784</td>\n",
              "      <td>0.0</td>\n",
              "      <td>0.000000</td>\n",
              "      <td>0.0</td>\n",
              "      <td>0.0</td>\n",
              "      <td>...</td>\n",
              "      <td>0.0</td>\n",
              "      <td>0.145713</td>\n",
              "      <td>0.188418</td>\n",
              "      <td>0.0</td>\n",
              "      <td>0.0</td>\n",
              "      <td>0.0000</td>\n",
              "      <td>0.0</td>\n",
              "      <td>0.000000</td>\n",
              "      <td>0.000000</td>\n",
              "      <td>0.000000</td>\n",
              "    </tr>\n",
              "    <tr>\n",
              "      <th>24533</th>\n",
              "      <td>0.0</td>\n",
              "      <td>0.107736</td>\n",
              "      <td>0.0</td>\n",
              "      <td>0.0</td>\n",
              "      <td>0.000000</td>\n",
              "      <td>0.000000</td>\n",
              "      <td>0.0</td>\n",
              "      <td>0.000000</td>\n",
              "      <td>0.0</td>\n",
              "      <td>0.0</td>\n",
              "      <td>...</td>\n",
              "      <td>0.0</td>\n",
              "      <td>0.000000</td>\n",
              "      <td>0.116968</td>\n",
              "      <td>0.0</td>\n",
              "      <td>0.0</td>\n",
              "      <td>0.0000</td>\n",
              "      <td>0.0</td>\n",
              "      <td>0.102612</td>\n",
              "      <td>0.159185</td>\n",
              "      <td>0.137505</td>\n",
              "    </tr>\n",
              "    <tr>\n",
              "      <th>24534</th>\n",
              "      <td>0.0</td>\n",
              "      <td>0.000000</td>\n",
              "      <td>0.0</td>\n",
              "      <td>0.0</td>\n",
              "      <td>0.000000</td>\n",
              "      <td>0.000000</td>\n",
              "      <td>0.0</td>\n",
              "      <td>0.000000</td>\n",
              "      <td>0.0</td>\n",
              "      <td>0.0</td>\n",
              "      <td>...</td>\n",
              "      <td>0.0</td>\n",
              "      <td>0.000000</td>\n",
              "      <td>0.000000</td>\n",
              "      <td>0.0</td>\n",
              "      <td>0.0</td>\n",
              "      <td>0.0000</td>\n",
              "      <td>0.0</td>\n",
              "      <td>0.000000</td>\n",
              "      <td>0.000000</td>\n",
              "      <td>0.304436</td>\n",
              "    </tr>\n",
              "  </tbody>\n",
              "</table>\n",
              "<p>24535 rows × 300 columns</p>\n",
              "</div>\n",
              "      <button class=\"colab-df-convert\" onclick=\"convertToInteractive('df-1a29e0f3-7be1-4b5c-b933-cf22bdc75345')\"\n",
              "              title=\"Convert this dataframe to an interactive table.\"\n",
              "              style=\"display:none;\">\n",
              "        \n",
              "  <svg xmlns=\"http://www.w3.org/2000/svg\" height=\"24px\"viewBox=\"0 0 24 24\"\n",
              "       width=\"24px\">\n",
              "    <path d=\"M0 0h24v24H0V0z\" fill=\"none\"/>\n",
              "    <path d=\"M18.56 5.44l.94 2.06.94-2.06 2.06-.94-2.06-.94-.94-2.06-.94 2.06-2.06.94zm-11 1L8.5 8.5l.94-2.06 2.06-.94-2.06-.94L8.5 2.5l-.94 2.06-2.06.94zm10 10l.94 2.06.94-2.06 2.06-.94-2.06-.94-.94-2.06-.94 2.06-2.06.94z\"/><path d=\"M17.41 7.96l-1.37-1.37c-.4-.4-.92-.59-1.43-.59-.52 0-1.04.2-1.43.59L10.3 9.45l-7.72 7.72c-.78.78-.78 2.05 0 2.83L4 21.41c.39.39.9.59 1.41.59.51 0 1.02-.2 1.41-.59l7.78-7.78 2.81-2.81c.8-.78.8-2.07 0-2.86zM5.41 20L4 18.59l7.72-7.72 1.47 1.35L5.41 20z\"/>\n",
              "  </svg>\n",
              "      </button>\n",
              "      \n",
              "  <style>\n",
              "    .colab-df-container {\n",
              "      display:flex;\n",
              "      flex-wrap:wrap;\n",
              "      gap: 12px;\n",
              "    }\n",
              "\n",
              "    .colab-df-convert {\n",
              "      background-color: #E8F0FE;\n",
              "      border: none;\n",
              "      border-radius: 50%;\n",
              "      cursor: pointer;\n",
              "      display: none;\n",
              "      fill: #1967D2;\n",
              "      height: 32px;\n",
              "      padding: 0 0 0 0;\n",
              "      width: 32px;\n",
              "    }\n",
              "\n",
              "    .colab-df-convert:hover {\n",
              "      background-color: #E2EBFA;\n",
              "      box-shadow: 0px 1px 2px rgba(60, 64, 67, 0.3), 0px 1px 3px 1px rgba(60, 64, 67, 0.15);\n",
              "      fill: #174EA6;\n",
              "    }\n",
              "\n",
              "    [theme=dark] .colab-df-convert {\n",
              "      background-color: #3B4455;\n",
              "      fill: #D2E3FC;\n",
              "    }\n",
              "\n",
              "    [theme=dark] .colab-df-convert:hover {\n",
              "      background-color: #434B5C;\n",
              "      box-shadow: 0px 1px 3px 1px rgba(0, 0, 0, 0.15);\n",
              "      filter: drop-shadow(0px 1px 2px rgba(0, 0, 0, 0.3));\n",
              "      fill: #FFFFFF;\n",
              "    }\n",
              "  </style>\n",
              "\n",
              "      <script>\n",
              "        const buttonEl =\n",
              "          document.querySelector('#df-1a29e0f3-7be1-4b5c-b933-cf22bdc75345 button.colab-df-convert');\n",
              "        buttonEl.style.display =\n",
              "          google.colab.kernel.accessAllowed ? 'block' : 'none';\n",
              "\n",
              "        async function convertToInteractive(key) {\n",
              "          const element = document.querySelector('#df-1a29e0f3-7be1-4b5c-b933-cf22bdc75345');\n",
              "          const dataTable =\n",
              "            await google.colab.kernel.invokeFunction('convertToInteractive',\n",
              "                                                     [key], {});\n",
              "          if (!dataTable) return;\n",
              "\n",
              "          const docLinkHtml = 'Like what you see? Visit the ' +\n",
              "            '<a target=\"_blank\" href=https://colab.research.google.com/notebooks/data_table.ipynb>data table notebook</a>'\n",
              "            + ' to learn more about interactive tables.';\n",
              "          element.innerHTML = '';\n",
              "          dataTable['output_type'] = 'display_data';\n",
              "          await google.colab.output.renderOutput(dataTable, element);\n",
              "          const docLink = document.createElement('div');\n",
              "          docLink.innerHTML = docLinkHtml;\n",
              "          element.appendChild(docLink);\n",
              "        }\n",
              "      </script>\n",
              "    </div>\n",
              "  </div>\n",
              "  "
            ]
          },
          "metadata": {},
          "execution_count": 21
        }
      ]
    },
    {
      "cell_type": "code",
      "source": [
        "#visualize only the keywords\n",
        "\n",
        "all_keywords = []\n",
        "\n",
        "for description in denselist:\n",
        "  x = 0\n",
        "  keywords = []\n",
        "  for word in description:\n",
        "    if word > 0:\n",
        "      keywords.append(feature_names[x])\n",
        "    x = x+1\n",
        "  all_keywords.append(keywords)"
      ],
      "metadata": {
        "id": "jgwv9Na7mZ2w"
      },
      "execution_count": null,
      "outputs": []
    },
    {
      "cell_type": "code",
      "source": [
        "print(all_keywords[1])"
      ],
      "metadata": {
        "id": "L1jfCwySpIdH",
        "colab": {
          "base_uri": "https://localhost:8080/"
        },
        "outputId": "3d71e0bc-97be-4609-c553-1f389b5e4385"
      },
      "execution_count": null,
      "outputs": [
        {
          "output_type": "stream",
          "name": "stdout",
          "text": [
            "['deal', 'fucking', 'literally', 'lives', 'people', 'reason', 'stupid']\n"
          ]
        }
      ]
    },
    {
      "cell_type": "code",
      "source": [
        "## if we are interested in the n features with the highest TF IDF scores\n",
        "\n",
        "top_n = 300\n",
        "top_n_features = sorted(list(zip(feature_names, \n",
        "                                  vectors.sum(0).getA1())), \n",
        "                              key=lambda x: x[1], reverse=True)[:top_n]"
      ],
      "metadata": {
        "id": "qz_03oEZtHTS"
      },
      "execution_count": null,
      "outputs": []
    },
    {
      "cell_type": "code",
      "source": [
        "#top_n_features"
      ],
      "metadata": {
        "id": "kjkOeGWBuYis"
      },
      "execution_count": null,
      "outputs": []
    },
    {
      "cell_type": "code",
      "source": [
        "for feature in top_n_features:\n",
        "  if feature[0] == 'suicide':\n",
        "    print(feature)"
      ],
      "metadata": {
        "id": "jvp4gE-muboH",
        "colab": {
          "base_uri": "https://localhost:8080/"
        },
        "outputId": "e744d27a-9129-49c0-e2cf-db9c40509336"
      },
      "execution_count": null,
      "outputs": [
        {
          "output_type": "stream",
          "name": "stdout",
          "text": [
            "('suicide', 398.4865341244319)\n"
          ]
        }
      ]
    },
    {
      "cell_type": "code",
      "source": [
        "# Extract the TF-IDF seed words from the 2018 depression dataset\n",
        "my_seed_words = []\n",
        "for feature in top_n_features:\n",
        "  my_seed_words.append(feature[0])\n",
        "print(my_seed_words)"
      ],
      "metadata": {
        "id": "-QO54Thkvv-v",
        "colab": {
          "base_uri": "https://localhost:8080/"
        },
        "outputId": "8f320b6b-bafa-49fb-ebae-09582a6b266f"
      },
      "execution_count": null,
      "outputs": [
        {
          "output_type": "stream",
          "name": "stdout",
          "text": [
            "['feel', 'life', 'depression', 'ive', 'people', 'time', 'friends', 'don', 'day', 'years', 'depressed', 'feeling', 'good', 'work', 'talk', 've', 'school', 'happy', 'year', 'hate', 'job', 'bad', 'love', 'fucking', 'family', 'friend', 'person', 'shit', 'dont', 'days', 'hard', 'felt', 'thoughts', 'point', 'thought', 'long', 'months', 'today', 'lot', 'care', 'worse', 'live', 'anxiety', 'started', 'feels', 'parents', 'die', 'sad', 'told', 'tired', 'sleep', 'ill', 'lost', 'thinking', 'bed', 'wanted', 'college', 'fuck', 'start', 'week', 'kill', 'suicide', 'reason', 'pretty', 'mind', 'night', 'hope', 'times', 'living', 'suicidal', 'wrong', 'pain', 'left', 'place', 'post', 'head', 'advice', 'understand', 'talking', 'kind', 'weeks', 'relationship', 'mom', 'guess', 'social', 'mental', 'scared', 'making', 'high', 'lonely', 'finally', 'real', 'therapy', 'hours', 'normal', 'working', 'great', 'girl', 'money', 'problems', 'feelings', 'girlfriend', 'motivation', 'close', 'therapist', 'change', 'leave', 'crying', 'matter', 'deal', 'month', 'bit', 'completely', 'experience', 'constantly', 'honestly', 'remember', 'guys', 'stuff', 'hurt', 'll', 'future', 'meds', 'stay', 'idea', 'house', 'medication', 'stupid', 'problem', 'wake', 'everyday', 'couple', 'sick', 'afraid', 'literally', 'read', 'enjoy', 'doctor', 'dad', 'issues', 'struggling', 'happened', 'health', 'wanna', 'worth', 'starting', 'worst', 'room', 'brain', 'happen', 'happiness', 'nice', 'guy', 'moment', 'class', 'morning', 'break', 'longer', 'boyfriend', 'situation', 'stuck', 'telling', 'stopped', 'didn', 'energy', 'single', 'reading', 'hell', 'death', 'loved', 'fun', 'fine', 'gonna', 'fact', 'body', 'basically', 'mother', 'eat', 'support', 'face', 'sense', 'needed', 'dead', 'barely', 'asked', 'deserve', 'knew', 'games', 'big', 'alive', 'bring', 'idk', 'shitty', 'diagnosed', 'coming', 'decided', 'fucked', 'broke', 'killing', 'doesn', 'spend', 'heart', 'antidepressants', 'music', 'sadness', 'weird', 'tomorrow', 'losing', 'supposed', 'car', 'reddit', 'fear', 'hurts', 'cut', 'called', 'terrible', 'helped', 'turn', 'small', 'hit', 'angry', 'hear', 'control', 'share', 'numb', 'worthless', 'sucks', 'eating', 'lose', 'extremely', 'failure', 'miserable', 'play', 'emotions', 'birthday', 'ended', 'grades', 'mood', 'moved', 'horrible', 'group', 'writing', 'god', 'open', 'positive', 'sit', 'sort', 'spent', 'hang', 'fall', 'university', 'dark', 'suffering', 'wanting', 'human', 'classes', 'online', 'realize', 'knowing', 'absolutely', 'sleeping', 'deep', 'video', 'attention', 'lack', 'age', 'rest', 'struggle', 'story', 'weight', 'write', 'anxious', 'lives', 'met', 'constant', 'short', 'worked', 'man', 'handle', 'food', 'free', 'vent', 'semester', 'pay', 'late', 'entire', 'playing', 'true', 'relationships', 'phone', 'realized', 'father', 'talked', 'eventually', 'quit', 'kid', 'stress', 'brother', 'kids', 'girls']\n"
          ]
        }
      ]
    },
    {
      "cell_type": "markdown",
      "source": [
        "todo: go through all studies and create a comprehensive list of all keywords"
      ],
      "metadata": {
        "id": "cAT66TS0i7Ip"
      }
    },
    {
      "cell_type": "code",
      "source": [
        "# TF-IDF seed words from existing study\n",
        "true_seed_words = ['myself', 'really', 'depression', 'hope', 'life', 'forever', 'pain', 'sad', 'live', 'mood']"
      ],
      "metadata": {
        "id": "tDJu2Jr1T_5h"
      },
      "execution_count": null,
      "outputs": []
    },
    {
      "cell_type": "code",
      "source": [
        "# Calculate Cosine Similarity between the two seed word lists\n",
        "from collections import Counter\n",
        "\n",
        "# count word occurrences\n",
        "our_vals = Counter(my_seed_words)\n",
        "true_vals = Counter(true_seed_words)\n",
        "\n",
        "# convert to word-vectors\n",
        "words  = list(our_vals.keys() | true_vals.keys())\n",
        "our_vect = [our_vals.get(word, 0) for word in words]        # [0, 0, 1, 1, 2, 1]\n",
        "true_vect = [true_vals.get(word, 0) for word in words]        # [1, 1, 1, 0, 1, 0]\n",
        "\n",
        "# find cosine\n",
        "len_our  = sum(av*av for av in our_vect) ** 0.5             # sqrt(7)\n",
        "len_true  = sum(bv*bv for bv in true_vect) ** 0.5             # sqrt(4)\n",
        "dot    = sum(av*bv for av,bv in zip(our_vect, true_vect))    # 3\n",
        "cosine = dot / (len_our * len_true)                          # 0.5669467\n"
      ],
      "metadata": {
        "id": "7FOguDXyWv85"
      },
      "execution_count": null,
      "outputs": []
    },
    {
      "cell_type": "code",
      "source": [
        "print(cosine)"
      ],
      "metadata": {
        "id": "e0v5GdAYXPi8",
        "colab": {
          "base_uri": "https://localhost:8080/"
        },
        "outputId": "4b007345-a8b4-476c-eaa6-fed93022b55a"
      },
      "execution_count": null,
      "outputs": [
        {
          "output_type": "stream",
          "name": "stdout",
          "text": [
            "0.12780193008453875\n"
          ]
        }
      ]
    },
    {
      "cell_type": "code",
      "source": [
        ""
      ],
      "metadata": {
        "id": "YeFVBtGaXTW0"
      },
      "execution_count": null,
      "outputs": []
    }
  ]
}